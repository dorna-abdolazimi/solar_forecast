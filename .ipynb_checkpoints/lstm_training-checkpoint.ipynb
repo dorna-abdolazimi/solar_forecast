{
 "cells": [
  {
   "cell_type": "code",
   "execution_count": 6,
   "id": "a8df4145-1ab6-4b13-87e3-65f61572192b",
   "metadata": {},
   "outputs": [],
   "source": [
    "import pickle\n",
    "import numpy as np\n",
    "import torch\n",
    "import torch.nn as nn\n",
    "import torch.utils.data as tdata\n",
    "import pandas as pd\n",
    "import matplotlib.pyplot as plt"
   ]
  },
  {
   "cell_type": "code",
   "execution_count": 7,
   "id": "5b38ab81-cd2a-4cb8-bdd8-d63255cb15c4",
   "metadata": {},
   "outputs": [],
   "source": [
    "USE_GPU = False\n",
    "def to_gpu(obj):\n",
    "    if not USE_GPU:\n",
    "        return obj\n",
    "    return obj.to('cuda:0')\n",
    "\n",
    "def to_cpu(obj):\n",
    "    if not USE_GPU:\n",
    "        return obj\n",
    "    return obj.to('cpu:0')"
   ]
  },
  {
   "cell_type": "code",
   "execution_count": 8,
   "id": "1e074b44-d1b2-4ec3-be6e-c193e88988b9",
   "metadata": {},
   "outputs": [],
   "source": [
    "seed = False\n",
    "if seed:\n",
    "    np.random.seed(1)\n",
    "    torch.seed(1)"
   ]
  },
  {
   "cell_type": "code",
   "execution_count": 9,
   "id": "39ce5235-5a64-411d-a93d-dd8c37ceea12",
   "metadata": {},
   "outputs": [],
   "source": [
    "def get_dataframe(train=True, downsampled=True, yearly=False):\n",
    "    if train:\n",
    "        initial_split = 'train'\n",
    "    else:\n",
    "        initial_split = 'test'\n",
    "    if yearly:\n",
    "        suffix = '_year'\n",
    "    else:\n",
    "        suffix = ''\n",
    "    fname = f'{initial_split}_dfs{suffix}.pkl'\n",
    "\n",
    "    with open(fname, 'rb') as f:\n",
    "        if downsampled and not yearly:\n",
    "            key = 'downsampled_1hr'\n",
    "        else:\n",
    "            key = 'default'\n",
    "        df = pickle.load(f)[key]\n",
    "    return df"
   ]
  },
  {
   "cell_type": "code",
   "execution_count": 10,
   "id": "2f458b7d-e482-4d1a-b954-dde52ff9ef86",
   "metadata": {},
   "outputs": [
    {
     "data": {
      "text/plain": [
       "2672"
      ]
     },
     "execution_count": 10,
     "metadata": {},
     "output_type": "execute_result"
    }
   ],
   "source": [
    "len(get_dataframe(yearly=True).DAY_OF_YEAR)"
   ]
  },
  {
   "cell_type": "code",
   "execution_count": 11,
   "id": "9e86dc48-12bd-4ea6-8535-c3d07891a90c",
   "metadata": {},
   "outputs": [
    {
     "data": {
      "text/plain": [
       "array([0, 0, 1, ..., 1, 1, 0])"
      ]
     },
     "execution_count": 11,
     "metadata": {},
     "output_type": "execute_result"
    }
   ],
   "source": [
    "np.array(get_dataframe(yearly=True).IS_DAYLIGHT).astype(int)"
   ]
  },
  {
   "cell_type": "code",
   "execution_count": 12,
   "id": "533da8a7-36b6-4d8c-b816-8b81ff32649e",
   "metadata": {},
   "outputs": [],
   "source": [
    "def drop_time_features_yearly(df):\n",
    "    return df.drop(columns=['DAY_OF_YEAR', 'YEAR', 'MONTH', 'DAY', 'HOUR', 'DATE_TIME'])\n",
    "def get_normalized_df_yearly(train=True, mean=None, std=None):\n",
    "    df = get_dataframe(train=train, yearly=True)\n",
    "    df = drop_time_features_yearly(df)\n",
    "    one_hot_is_daylight = np.zeros((len(df.IS_DAYLIGHT), 2), dtype=np.float32)\n",
    "    one_hot_is_daylight[:, 1] = (np.array(df.IS_DAYLIGHT==True).astype(int))\n",
    "    one_hot_is_daylight[:, 0] = 1 - one_hot_is_daylight[:, 1]\n",
    "    df = df.drop(columns=['IS_DAYLIGHT'])\n",
    "    df['IS_DAYLIGHT_OH_0'] = one_hot_is_daylight[:,0]\n",
    "    df['IS_DAYLIGHT_OH_1'] = one_hot_is_daylight[:,1]\n",
    "    if mean is None and std is None and train:\n",
    "        df = (df - df.mean(0))/df.std(0)\n",
    "    elif mean is None or std is None:\n",
    "        raise ValueError('Must provide mean/std for test data normalization')\n",
    "    else:\n",
    "        df = (df - mean)/std\n",
    "    return df, 8, 10\n",
    "\n",
    "def drop_time_features_smallset(df):\n",
    "    return df.drop(columns=['DATE_TIME', 'HOUR', 'DAY', 'DAY_WEEK'])\n",
    "def get_normalized_df_smallset(train=True,downsampled=True, mean=None, std=None):\n",
    "    df = get_dataframe(train=train, downsampled=downsampled)\n",
    "    df = drop_time_features_smallset(df)\n",
    "    if mean is None and std is None and train:\n",
    "        df = (df - df.mean(0))/df.std(0)\n",
    "    elif mean is None or std is None:\n",
    "        raise ValueError('Must provide mean/std for test data normalization')\n",
    "    else:\n",
    "        df = (df - mean)/std\n",
    "    return df, 24, 25"
   ]
  },
  {
   "cell_type": "code",
   "execution_count": 13,
   "id": "c83424ee-44f2-4c6a-a964-6e4a5e3252a9",
   "metadata": {},
   "outputs": [],
   "source": [
    "normalized_train, steps_per_day, num_var = get_normalized_df_smallset()"
   ]
  },
  {
   "cell_type": "code",
   "execution_count": 14,
   "id": "585bd457-4815-4e62-9f8a-ac5f1cf8a46d",
   "metadata": {},
   "outputs": [],
   "source": [
    "class EarlyStop:\n",
    "    def __init__(self, wait_n_epochs):\n",
    "        self.wait_n_epochs = wait_n_epochs\n",
    "        self.epochs_since_improvement = 0\n",
    "        self.best_val_loss = np.inf\n",
    "\n",
    "    # return whether to stop\n",
    "    def step(self, val_loss):\n",
    "        if self.best_val_loss > val_loss:\n",
    "            self.best_val_loss = val_loss\n",
    "            self.epochs_since_improvement = 0\n",
    "            return False\n",
    "        else:\n",
    "            self.epochs_since_improvement += 1\n",
    "            should_stop = (self.epochs_since_improvement >= self.wait_n_epochs)\n",
    "            return should_stop\n",
    "\n",
    "class SaveBestModel:\n",
    "    def __init__(self, model, path):\n",
    "        self.best_val_loss = np.inf\n",
    "        self.model = model\n",
    "        self.path = path\n",
    "\n",
    "    def step(self, val_loss):\n",
    "        if self.best_val_loss > val_loss:\n",
    "            self.best_val_loss = val_loss\n",
    "            torch.save(self.model.state_dict(), self.path)\n",
    "            return True\n",
    "        return False\n",
    "\n",
    "\n",
    "class Trainer:\n",
    "    def __init__(self, dataframe, features, dependent_variables, steps_per_day=24, model_out_path='model.pth'):\n",
    "        self.dataframe = dataframe\n",
    "        self.features = np.array(dataframe[features])\n",
    "        self.dependent_variables = np.array(dataframe[dependent_variables])\n",
    "        self.dependent_variable_names = dependent_variables\n",
    "        self.feature_names = features\n",
    "        self.model = None\n",
    "        self.opt = None\n",
    "        self.loss = None\n",
    "        self.model_out_path = model_out_path\n",
    "        self.steps_per_day = steps_per_day\n",
    "\n",
    "    def train(self, model_build_fn, opt_build_fn, loss_build_fn, val_tsteps, n_obs_per_seq_x, n_obs_per_seq_y, flat=False, wait_n_epochs_earlystop=10, n_epoch=50):\n",
    "        self.val_tsteps = val_tsteps\n",
    "        # split into train and val data\n",
    "        train_x, train_y, val_x, val_y = self._do_train_val_split(val_tsteps, n_obs_per_seq_x, n_obs_per_seq_y, flat)\n",
    "\n",
    "        # model build fn will only take the input and output shapes\n",
    "        #print('x size'); print(train_x.size())\n",
    "        if flat:\n",
    "            model_in_size = [train_x.size()[1]]\n",
    "        else:\n",
    "            model_in_size = [train_x.size()[1], train_x.size()[2]]\n",
    "        if len(train_y.size()) >= 3:\n",
    "            model_out_size = [train_y.size()[1]*train_y.size()[2]]\n",
    "        else:\n",
    "            model_out_size = [train_y.size(1)]\n",
    "        #print('lstm in size:', model_in_size)\n",
    "        self.model = model_build_fn(model_in_size, model_out_size, flat=flat)\n",
    "        self.opt = opt_build_fn(self.model.parameters())\n",
    "        self.loss = loss_build_fn()\n",
    "        train_dl, val_dl = self._get_dataloaders(train_x, train_y, val_x, val_y)\n",
    "\n",
    "        # next part is actually run a training loop\n",
    "        val_losses = []\n",
    "        early_stopper = EarlyStop(wait_n_epochs_earlystop)\n",
    "        model_saver = SaveBestModel(self.model, self.model_out_path)\n",
    "        for epoch in range(n_epoch):\n",
    "            if epoch % 50 == 0:\n",
    "                print(f'Training epoch {epoch}...      (Best loss: {early_stopper.best_val_loss:.4e})')\n",
    "\n",
    "            self._train_epoch(train_dl)\n",
    "            val_losses.append(self._do_val(val_dl))\n",
    "            if early_stopper.step(val_losses[-1]):\n",
    "                print(f'No improvement for {early_stopper.wait_n_epochs} epochs. Stopping after epoch {epoch}.')\n",
    "                break\n",
    "            if model_saver.step(val_losses[-1]):\n",
    "                #print(f'Best new loss at epoch {epoch}: {val_losses[-1]:.4e}')\n",
    "                pass\n",
    "\n",
    "        best_model = self._load_best_model(model_build_fn, model_in_size, model_out_size)\n",
    "        return best_model, val_losses\n",
    "\n",
    "    def get_val_preds(self):\n",
    "        val_dataframe = self.dataframe.iloc[-self.val_tsteps:]\n",
    "        return self.get_predictions(val_dataframe)\n",
    "\n",
    "    def get_predictions(self, dataframe):\n",
    "        day_len = self.steps_per_day\n",
    "        #print(self.model_out_path)\n",
    "        with torch.no_grad():\n",
    "            if self.model is None:\n",
    "                raise ValueError('not trained')\n",
    "            #print(1, self.model.in_shape)\n",
    "            self.model.load_state_dict(torch.load(self.model_out_path)) # load best model\n",
    "            #print(2, self.model.in_shape)\n",
    "            if self.model.kwargs['flat']:\n",
    "                inputs = []\n",
    "                raw_in = np.array(dataframe[self.feature_names])\n",
    "                #print(raw_in)\n",
    "                st = 0\n",
    "                n_steps_per_in = self.model.in_shape[0]//len(self.feature_names)\n",
    "                n_steps_per_out = self.model.out_shape[0]//len(self.feature_names)\n",
    "                #print(n_steps_per_in, n_steps_per_out, raw_in.shape)\n",
    "                while st <= (raw_in.shape[0] - n_steps_per_in - n_steps_per_out):\n",
    "                    inpt = raw_in[st:(st+n_steps_per_in), ...].ravel()\n",
    "                    inputs.append(torch.FloatTensor(inpt))\n",
    "                    #print(inpt.shape)\n",
    "                    #st += self.model.out_shape[0]//len(self.feature_names)\n",
    "                    st += day_len # trying something\n",
    "            else:\n",
    "                inputs = []\n",
    "                raw_in = np.array(dataframe[self.feature_names])\n",
    "                #print('raw in lstm', raw_in.shape)\n",
    "                st = 0\n",
    "                n_steps_per_in = self.model.in_shape[0]\n",
    "                #print(4, self.model.in_shape)\n",
    "                n_steps_per_out = self.model.out_shape[0]//len(self.feature_names)\n",
    "                #print(st, n_steps_per_in, n_steps_per_out, raw_in.shape)\n",
    "                while st <= (raw_in.shape[0] - n_steps_per_in - n_steps_per_out):\n",
    "                    inpt = raw_in[st:(st+n_steps_per_in), ...]\n",
    "                    inputs.append(torch.FloatTensor(inpt))\n",
    "                    #st += self.model.out_shape[0]//len(self.feature_names)\n",
    "                    st += day_len\n",
    "                    #print('day', st//day_len, st)\n",
    "\n",
    "            #print(inputs)\n",
    "            #print(len(inputs))\n",
    "            return torch.stack([to_cpu(to_gpu(self.model)(to_gpu(inpt))) for inpt in inputs])\n",
    "\n",
    "    def _load_best_model(self, model_build_fn, model_in_size, model_out_size):\n",
    "        best_model = model_build_fn(model_in_size, model_out_size)\n",
    "        best_model.load_state_dict(torch.load(self.model_out_path))\n",
    "        return best_model\n",
    "\n",
    "    def _train_epoch(self, train_dl):\n",
    "        for x_batch, y_batch in train_dl:\n",
    "            self.opt.zero_grad()\n",
    "            out = to_cpu(to_gpu(self.model)(to_gpu(x_batch)))\n",
    "            #print(x_batch.size(), out.size(), y_batch.size())\n",
    "            loss_value = self.loss(out, y_batch.reshape(out.size()))\n",
    "            loss_value.backward()\n",
    "            self.opt.step()\n",
    "\n",
    "    def _do_val(self, val_dl):\n",
    "        with torch.no_grad():\n",
    "            val_total = 0\n",
    "            ex_ct = 0\n",
    "            for x_batch, y_batch in val_dl:\n",
    "                out = to_cpu(to_gpu(self.model)(to_gpu(x_batch)))\n",
    "                val_total += self.loss(out, y_batch.reshape(out.size())).item()\n",
    "                ex_ct += x_batch.size(0)\n",
    "        return val_total/ex_ct\n",
    "\n",
    "    def _get_dataloaders(self, train_x, train_y, val_x, val_y):\n",
    "        train_ds = tdata.TensorDataset(train_x, train_y)\n",
    "        val_ds = tdata.TensorDataset(val_x, val_y)\n",
    "        return tdata.DataLoader(train_ds, batch_size=64, shuffle=True), \\\n",
    "                tdata.DataLoader(val_ds, batch_size=128, shuffle=True)\n",
    "\n",
    "    def _do_train_val_split(self, val_tsteps, n_obs_per_seq_x=1, n_obs_per_seq_y=1, flat=False):\n",
    "        if n_obs_per_seq_x < 2:\n",
    "            flat = True\n",
    "        x_seqs, y_seqs = self._group_feats_into_seqs(n_obs_per_seq_x, n_obs_per_seq_y, flat)\n",
    "        #print(x_seqs.shape)\n",
    "        n_all = x_seqs.shape[0]\n",
    "        split_idxs = np.arange(n_all)\n",
    "        # used to shuffle but this created leaks\n",
    "        #np.random.shuffle(split_idxs)\n",
    "        random_ordered_data = self.features[split_idxs, ...]\n",
    "        n_val = val_tsteps\n",
    "        val_idxs = split_idxs[-n_val:]\n",
    "        val_examples = x_seqs[val_idxs,...]\n",
    "        #self.val_examples = val_examples.copy()\n",
    "        val_true_y = y_seqs[val_idxs,...]\n",
    "        #self.val_true_y = val_true_y.copy()\n",
    "        train_idxs = split_idxs[:-(n_val+n_obs_per_seq_x)] # keep a little barrier between val and train\n",
    "        train_examples = x_seqs[train_idxs,...]\n",
    "        train_true_y = y_seqs[train_idxs,...]\n",
    "\n",
    "        train_examples = torch.FloatTensor(train_examples)\n",
    "        train_true_y = torch.FloatTensor(train_true_y)\n",
    "        val_examples = torch.FloatTensor(val_examples)\n",
    "        val_true_y = torch.FloatTensor(val_true_y)\n",
    "\n",
    "        return train_examples, train_true_y, val_examples, val_true_y\n",
    "\n",
    "    def _group_feats_into_seqs(self, n_obs_per_seq_x, n_obs_per_seq_y, flat):\n",
    "        # so what we want to do here is:\n",
    "        #\n",
    "        # for t in range(num_time_steps-daylen-seqlen):\n",
    "        #   seq_x = x[t:(t+seqlen), features]\n",
    "        #   seq_y = x[(t+seqlen):(t+seqlen+daylen), dependent_vars].ravel()\n",
    "        #print(n_obs_per_seq_x, n_obs_per_seq_y)\n",
    "        n_events = self.features.shape[0]\n",
    "        n_seqs = n_events - n_obs_per_seq_x - n_obs_per_seq_y # n_obs_per_seq + n_obs_per_seq_y is the time in which a sequence and its output occur\n",
    "        \n",
    "        if not flat:\n",
    "            x_seqs = np.zeros((n_seqs, n_obs_per_seq_x, self.features.shape[1]))\n",
    "            y_seqs = np.zeros((n_seqs, n_obs_per_seq_y, self.dependent_variables.shape[1]))\n",
    "        else:\n",
    "            x_seqs = np.zeros((n_seqs, n_obs_per_seq_x*self.features.shape[1]))\n",
    "            y_seqs = np.zeros((n_seqs, n_obs_per_seq_y*self.dependent_variables.shape[1]))\n",
    "        n_events = self.features.shape[0]\n",
    "        for t in range(n_events-n_obs_per_seq_x-n_obs_per_seq_y):\n",
    "            if not flat:\n",
    "                x_seqs[t, ...] = self.features[t:(t+n_obs_per_seq_x), ...]\n",
    "                y_seqs[t, ...] = self.dependent_variables[(t+n_obs_per_seq_x):(t+n_obs_per_seq_x+n_obs_per_seq_y)]\n",
    "            else:\n",
    "                x_seqs[t, ...] = self.features[t:(t+n_obs_per_seq_x), ...].ravel()\n",
    "                y_seqs[t, ...] = self.dependent_variables[(t+n_obs_per_seq_x):(t+n_obs_per_seq_x+n_obs_per_seq_y)].ravel()\n",
    "        #print(x_seqs.shape)\n",
    "        return x_seqs, y_seqs"
   ]
  },
  {
   "cell_type": "code",
   "execution_count": 15,
   "id": "e2720688-27be-4697-9b63-de286f31c191",
   "metadata": {},
   "outputs": [],
   "source": [
    "def get_nn_getter():\n",
    "    def _get_nn(in_shape, out_shape, **kwargs):\n",
    "        return NNSimple(in_shape[0], out_shape[0], **kwargs)\n",
    "    return _get_nn\n",
    "\n",
    "def get_lstm_getter():\n",
    "    def _get_lstm(in_shape, out_shape, **kwargs):\n",
    "        return LSTMNetwork(in_shape, out_shape[0], **kwargs)\n",
    "    return _get_lstm\n",
    "\n",
    "def get_adam_getter(lr):\n",
    "    def _get_adam(params):\n",
    "        return torch.optim.Adam(params, lr=lr)\n",
    "    return _get_adam"
   ]
  },
  {
   "cell_type": "code",
   "execution_count": 16,
   "id": "f1979fe9-a763-4619-8d41-0a38a27156ff",
   "metadata": {},
   "outputs": [],
   "source": [
    "class NNSimple(nn.Module):\n",
    "    def __init__(self, n_in, n_out, **kwargs):\n",
    "        super().__init__()\n",
    "        self.in_shape = [n_in]\n",
    "        self.out_shape = [n_out]\n",
    "        self.lin1 = nn.Linear(n_in, 64)\n",
    "        self.lin2 = nn.Linear(64, 256)\n",
    "        self.lin3 = nn.Linear(256, 128)\n",
    "        self.lin4 = nn.Linear(128, n_out)\n",
    "        self.kwargs = kwargs\n",
    "\n",
    "    def forward(self,x):\n",
    "        o = nn.functional.relu(self.lin1(x))\n",
    "        o = nn.functional.relu(self.lin2(o))\n",
    "        o = nn.functional.relu(self.lin3(o))\n",
    "        o = self.lin4(o)\n",
    "        return o\n",
    "\n",
    "class LSTMNetwork(nn.Module):\n",
    "    def  __init__(self, in_shape, n_out, **kwargs):\n",
    "        super().__init__()\n",
    "        self.in_shape = in_shape\n",
    "        self.out_shape = [n_out]\n",
    "        self.hidden_size = 64\n",
    "        self.lstm = nn.LSTM(input_size=in_shape[1], hidden_size=self.hidden_size, num_layers=1, batch_first=True)\n",
    "        self.lin1 = nn.Linear(self.hidden_size*in_shape[0], 64)\n",
    "        self.lin2 = nn.Linear(64, 128)\n",
    "        self.lin3 = nn.Linear(128, n_out) \n",
    "        #print('n_out', n_out)\n",
    "        self.kwargs = kwargs\n",
    "    def forward(self,x):\n",
    "        o = nn.functional.relu(self.lstm(x)[0])\n",
    "        #print('o size', o.size())\n",
    "        #print('input size',self.in_shape)\n",
    "        #print\n",
    "        o = nn.functional.relu(self.lin1(o.reshape(-1, self.hidden_size*self.in_shape[0])))\n",
    "        o = nn.functional.relu(self.lin2(o))\n",
    "        return self.lin3(o)"
   ]
  },
  {
   "cell_type": "code",
   "execution_count": 17,
   "id": "a78b3036-7c95-48b4-b905-4b724ef804dc",
   "metadata": {},
   "outputs": [],
   "source": [
    "trainer_lstm = Trainer(\n",
    "    normalized_train,\n",
    "    normalized_train.columns.tolist(),\n",
    "    normalized_train.columns.tolist(),\n",
    "    model_out_path='lstm.pth',\n",
    "    steps_per_day=steps_per_day,\n",
    ")\n",
    "trainer_nn = Trainer(\n",
    "    normalized_train,\n",
    "    normalized_train.columns.tolist(),\n",
    "    normalized_train.columns.tolist(),\n",
    "    model_out_path='nn.pth',\n",
    "    steps_per_day=steps_per_day\n",
    ")"
   ]
  },
  {
   "cell_type": "code",
   "execution_count": 18,
   "id": "9db8a19f-69f4-4074-8a8f-90521755cda6",
   "metadata": {},
   "outputs": [
    {
     "data": {
      "text/plain": [
       "24"
      ]
     },
     "execution_count": 18,
     "metadata": {},
     "output_type": "execute_result"
    }
   ],
   "source": [
    "steps_per_day"
   ]
  },
  {
   "cell_type": "code",
   "execution_count": 19,
   "id": "8688297b-79ff-4f8e-bb1d-aaf181864305",
   "metadata": {},
   "outputs": [],
   "source": [
    "def compute_validation_days_mse(trainer, n_day_in, n_day_out, n_predicted_vars, steps_per_day):\n",
    "    day_len = steps_per_day\n",
    "    preds = trainer.get_val_preds()\n",
    "    # shape should be (num_pred_periods, pred_period_len, num_feat\n",
    "    print(preds.numpy().shape)\n",
    "    preds_numpy_daywise = preds.numpy().reshape(-1, day_len, n_predicted_vars)\n",
    "    val_numpy = np.array(trainer.dataframe.iloc[-trainer.val_tsteps:])\n",
    "    val_numpy_daywise = val_numpy.reshape(val_numpy.shape[0]//day_len, day_len, n_predicted_vars)[n_day_in:]\n",
    "    print(val_numpy_daywise.shape)\n",
    "    val_numpy_truth = np.stack([val_numpy_daywise[(day_start):(day_start+n_day_out), ...] for day_start in range(val_numpy_daywise.shape[0]-n_day_out+1)])\n",
    "    val_numpy_truth_daywise = val_numpy_truth.reshape(-1, day_len, n_predicted_vars)\n",
    "    #val_numpy_pred_days = val_numpy.reshape(val_numpy.shape[0]//24, 24, n_predicted_vars)[n_days_in:] # skip days which we do not predict\n",
    "    #print(preds_numpy_daywise.shape)\n",
    "    #print(val_numpy_truth_daywise.shape)\n",
    "    return 1/2 * np.square(preds_numpy_daywise - val_numpy_truth_daywise).sum()/(day_len * preds_numpy_daywise.shape[0] * n_predicted_vars)"
   ]
  },
  {
   "cell_type": "code",
   "execution_count": 20,
   "id": "1dab10a1-ee59-4649-b53d-59fc3f88de42",
   "metadata": {},
   "outputs": [],
   "source": [
    "n_features = num_var"
   ]
  },
  {
   "cell_type": "code",
   "execution_count": 21,
   "id": "03ece022-7b52-4815-b494-2b025692cb06",
   "metadata": {},
   "outputs": [
    {
     "name": "stdout",
     "output_type": "stream",
     "text": [
      "Training epoch 0...      (Best loss: inf)\n",
      "Training epoch 50...      (Best loss: 1.0888e-02)\n",
      "Training epoch 100...      (Best loss: 7.8488e-03)\n",
      "Training epoch 150...      (Best loss: 5.0525e-03)\n",
      "Training epoch 200...      (Best loss: 3.5562e-03)\n",
      "Training epoch 250...      (Best loss: 2.7416e-03)\n",
      "Training epoch 300...      (Best loss: 2.2863e-03)\n",
      "Training epoch 350...      (Best loss: 1.9738e-03)\n",
      "Training epoch 400...      (Best loss: 1.7573e-03)\n",
      "Training epoch 450...      (Best loss: 1.6017e-03)\n",
      "Training epoch 500...      (Best loss: 1.4947e-03)\n",
      "Training epoch 550...      (Best loss: 1.4302e-03)\n",
      "Training epoch 600...      (Best loss: 1.3703e-03)\n",
      "Training epoch 650...      (Best loss: 1.3639e-03)\n",
      "Training epoch 700...      (Best loss: 1.3529e-03)\n",
      "Training epoch 750...      (Best loss: 1.3423e-03)\n",
      "Training epoch 800...      (Best loss: 1.3416e-03)\n",
      "Training epoch 850...      (Best loss: 1.3375e-03)\n",
      "Training epoch 900...      (Best loss: 1.3288e-03)\n",
      "Training epoch 950...      (Best loss: 1.3288e-03)\n",
      "No improvement for 100 epochs. Stopping after epoch 965.\n"
     ]
    }
   ],
   "source": [
    "days_in = 3\n",
    "days_out = 3\n",
    "day_len = steps_per_day\n",
    "val_days = 7\n",
    "model, val_scores = trainer_lstm.train(get_lstm_getter(), get_adam_getter(.00001), nn.MSELoss, val_days*day_len, days_in*day_len, days_out*day_len, flat=False, wait_n_epochs_earlystop=100, n_epoch=5000)"
   ]
  },
  {
   "cell_type": "code",
   "execution_count": 22,
   "id": "17925d8d-e9e4-49ea-a06a-0501c7135186",
   "metadata": {},
   "outputs": [
    {
     "name": "stdout",
     "output_type": "stream",
     "text": [
      "Training epoch 0...      (Best loss: inf)\n",
      "Training epoch 50...      (Best loss: 1.0476e-02)\n",
      "Training epoch 100...      (Best loss: 7.2632e-03)\n",
      "Training epoch 150...      (Best loss: 4.8032e-03)\n",
      "Training epoch 200...      (Best loss: 3.3126e-03)\n",
      "Training epoch 250...      (Best loss: 2.5388e-03)\n",
      "Training epoch 300...      (Best loss: 2.0914e-03)\n",
      "Training epoch 350...      (Best loss: 1.8066e-03)\n",
      "Training epoch 400...      (Best loss: 1.6231e-03)\n",
      "Training epoch 450...      (Best loss: 1.4883e-03)\n",
      "Training epoch 500...      (Best loss: 1.4161e-03)\n",
      "Training epoch 550...      (Best loss: 1.3705e-03)\n",
      "Training epoch 600...      (Best loss: 1.3274e-03)\n",
      "Training epoch 650...      (Best loss: 1.3231e-03)\n",
      "Training epoch 700...      (Best loss: 1.3122e-03)\n",
      "Training epoch 750...      (Best loss: 1.3122e-03)\n",
      "Training epoch 800...      (Best loss: 1.2965e-03)\n",
      "Training epoch 850...      (Best loss: 1.2965e-03)\n",
      "No improvement for 100 epochs. Stopping after epoch 855.\n"
     ]
    }
   ],
   "source": [
    "days_in = 3\n",
    "days_out = 3\n",
    "day_len = steps_per_day\n",
    "val_days = 7\n",
    "model, val_scores = trainer_nn.train(get_nn_getter(), get_adam_getter(.00001), nn.MSELoss, val_days*day_len, days_in*day_len, days_out*day_len, flat=True, wait_n_epochs_earlystop=100, n_epoch=5000)"
   ]
  },
  {
   "cell_type": "code",
   "execution_count": 23,
   "id": "c5ba529e-b07b-4f3e-9fb4-e129087f3e52",
   "metadata": {},
   "outputs": [
    {
     "name": "stdout",
     "output_type": "stream",
     "text": [
      "(2, 1, 1800)\n",
      "(4, 24, 25)\n"
     ]
    },
    {
     "data": {
      "text/plain": [
       "0.06702942558627424"
      ]
     },
     "execution_count": 23,
     "metadata": {},
     "output_type": "execute_result"
    }
   ],
   "source": [
    "compute_validation_days_mse(trainer_lstm, days_in, days_out, num_var, steps_per_day)"
   ]
  },
  {
   "cell_type": "code",
   "execution_count": 24,
   "id": "305d3fc7-d368-413d-bdb4-13b1d8159f69",
   "metadata": {},
   "outputs": [],
   "source": [
    "val_out_lstm = trainer_lstm.get_val_preds().reshape(-1, day_len*days_out, n_features)\n",
    "val_out_nn = trainer_nn.get_val_preds().reshape(-1, day_len*days_out, n_features)\n",
    "val_truth = np.array(trainer_nn.dataframe.iloc[-trainer_nn.val_tsteps:])\n",
    "val_truth = val_truth.reshape(val_truth.shape[0]//day_len, day_len, n_features)[days_in:]\n",
    "val_truth = np.stack([val_truth[(day_start):(day_start+days_out), ...] for day_start in range(val_truth.shape[0]-days_out+1)])\n",
    "val_truth = val_truth.reshape(val_truth.shape[0], days_out*day_len, n_features)"
   ]
  },
  {
   "cell_type": "code",
   "execution_count": 25,
   "id": "918c5758-f23d-4754-bd83-c3a8eec6d95d",
   "metadata": {},
   "outputs": [
    {
     "data": {
      "text/plain": [
       "torch.Size([2, 72, 25])"
      ]
     },
     "execution_count": 25,
     "metadata": {},
     "output_type": "execute_result"
    }
   ],
   "source": [
    "val_truth.shape\n",
    "val_out_lstm.shape"
   ]
  },
  {
   "cell_type": "code",
   "execution_count": 26,
   "id": "a2ca6f46-b193-4d43-bda1-1d7bc7c66348",
   "metadata": {},
   "outputs": [
    {
     "data": {
      "image/png": "[encoded data removed]",
      "text/plain": [
       "<Figure size 640x480 with 1 Axes>"
      ]
     },
     "metadata": {},
     "output_type": "display_data"
    }
   ],
   "source": [
    "time_idx = 0\n",
    "var_idx = 0\n",
    "n_days = 3\n",
    "start_day = 0\n",
    "x = np.arange(n_days*steps_per_day)*24\n",
    "plt.plot(x,val_out_lstm[time_idx, start_day:(steps_per_day*n_days), var_idx], 'c--')\n",
    "plt.plot(x,val_out_nn[time_idx, start_day:(steps_per_day*n_days), var_idx], 'm--')\n",
    "plt.plot(x,val_truth[time_idx, start_day:(steps_per_day*n_days), var_idx], 'r-')\n",
    "plt.title(normalized_train.columns[var_idx])\n",
    "plt.show()"
   ]
  },
  {
   "cell_type": "code",
   "execution_count": 406,
   "id": "eab2e17e-cab5-4815-82f7-468582465e1c",
   "metadata": {},
   "outputs": [
    {
     "data": {
      "text/plain": [
       "torch.Size([3, 120, 25])"
      ]
     },
     "execution_count": 406,
     "metadata": {},
     "output_type": "execute_result"
    }
   ],
   "source": [
    "val_out_nn.shape"
   ]
  },
  {
   "cell_type": "code",
   "execution_count": 160,
   "id": "a63acb8f-e7bc-4849-be85-e9b94ecb78f6",
   "metadata": {},
   "outputs": [],
   "source": [
    "unnormed, _, _ = get_normalized_df_yearly(mean=0,std=1)"
   ]
  },
  {
   "cell_type": "code",
   "execution_count": 161,
   "id": "c8acc6b8-eb96-4ce9-872e-5e3b775c7320",
   "metadata": {},
   "outputs": [
    {
     "data": {
      "text/plain": [
       "0       1.0\n",
       "1       1.0\n",
       "2       0.0\n",
       "3       0.0\n",
       "4       0.0\n",
       "       ... \n",
       "2667    0.0\n",
       "2668    0.0\n",
       "2669    0.0\n",
       "2670    0.0\n",
       "2671    1.0\n",
       "Name: IS_DAYLIGHT_OH_0, Length: 2672, dtype: float32"
      ]
     },
     "execution_count": 161,
     "metadata": {},
     "output_type": "execute_result"
    }
   ],
   "source": [
    "unnormed."
   ]
  },
  {
   "cell_type": "code",
   "execution_count": 164,
   "id": "0d004f1e-0d56-4978-945d-8efd51f8ba5b",
   "metadata": {},
   "outputs": [
    {
     "data": {
      "text/plain": [
       "0.6175149700598802"
      ]
     },
     "execution_count": 164,
     "metadata": {},
     "output_type": "execute_result"
    }
   ],
   "source": [
    "xx = get_dataframe(yearly=True)\n",
    "xx.IS_DAYLIGHT.sum()/(len(xx.IS_DAYLIGHT))"
   ]
  },
  {
   "cell_type": "code",
   "execution_count": null,
   "id": "26ed181a-44f1-4272-a65f-b9fd08d6b0a5",
   "metadata": {},
   "outputs": [],
   "source": []
  }
 ],
 "metadata": {
  "kernelspec": {
   "display_name": "Python 3 (ipykernel)",
   "language": "python",
   "name": "python3"
  },
  "language_info": {
   "codemirror_mode": {
    "name": "ipython",
    "version": 3
   },
   "file_extension": ".py",
   "mimetype": "text/x-python",
   "name": "python",
   "nbconvert_exporter": "python",
   "pygments_lexer": "ipython3",
   "version": "3.11.4"
  }
 },
 "nbformat": 4,
 "nbformat_minor": 5
}
